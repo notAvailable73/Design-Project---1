{
 "cells": [
  {
   "cell_type": "code",
   "execution_count": 69,
   "id": "56d95975-a4a3-4511-995b-e844826d56bb",
   "metadata": {},
   "outputs": [
    {
     "name": "stdout",
     "output_type": "stream",
     "text": [
      "Requirement already satisfied: pandas in d:\\application folders\\anaconda3\\lib\\site-packages (2.2.2)\n",
      "Requirement already satisfied: numpy>=1.26.0 in d:\\application folders\\anaconda3\\lib\\site-packages (from pandas) (1.26.4)\n",
      "Requirement already satisfied: python-dateutil>=2.8.2 in d:\\application folders\\anaconda3\\lib\\site-packages (from pandas) (2.9.0.post0)\n",
      "Requirement already satisfied: pytz>=2020.1 in d:\\application folders\\anaconda3\\lib\\site-packages (from pandas) (2024.1)\n",
      "Requirement already satisfied: tzdata>=2022.7 in d:\\application folders\\anaconda3\\lib\\site-packages (from pandas) (2023.3)\n",
      "Requirement already satisfied: six>=1.5 in d:\\application folders\\anaconda3\\lib\\site-packages (from python-dateutil>=2.8.2->pandas) (1.16.0)\n",
      "Note: you may need to restart the kernel to use updated packages.\n"
     ]
    }
   ],
   "source": [
    "pip install pandas"
   ]
  },
  {
   "cell_type": "code",
   "execution_count": 71,
   "id": "3bb57b2c-959c-435e-8e71-b85bf05c8d7e",
   "metadata": {},
   "outputs": [],
   "source": [
    "import pandas as pd"
   ]
  },
  {
   "cell_type": "code",
   "execution_count": 73,
   "id": "d4c32651-d6b0-4b72-9cb5-04e23d06648e",
   "metadata": {},
   "outputs": [],
   "source": [
    "df = pd.read_csv(r'C:\\Users\\Hp\\Documents\\Jupyter Notebook\\CarRentalReview\\Merged.csv', encoding='ISO-8859-1')"
   ]
  },
  {
   "cell_type": "code",
   "execution_count": 75,
   "id": "1b9c7814-8a8d-497e-ab38-6da07cace1c7",
   "metadata": {},
   "outputs": [
    {
     "name": "stdout",
     "output_type": "stream",
     "text": [
      "                                               title  \\\n",
      "0  2002 Dodge Ram Cargo Van 1500 3dr Van (3.9L 6c...   \n",
      "1  2002 Dodge Ram Cargo Van 3500 3dr Ext Van (5.2...   \n",
      "2  2002 Dodge Ram Cargo Van 3500 Maxi 3dr Ext Van...   \n",
      "3  2001 Dodge Ram Cargo Van 2500 Maxi 3dr Ext Van...   \n",
      "4  2001 Dodge Ram Cargo Van 1500 3dr Van (3.9L 6c...   \n",
      "\n",
      "                                              review  \n",
      "0  It's been a great delivery vehicle for my cafe...  \n",
      "1  Bought this car as a commuter vehicle for a va...  \n",
      "2  This van rocks its the best, lots of \\n room. ...  \n",
      "3  Great work vehicle. Drives nice. has lots of r...  \n",
      "4  Good solid frame and suspension. Well equipped...  \n"
     ]
    }
   ],
   "source": [
    "print(df.head())"
   ]
  },
  {
   "cell_type": "code",
   "execution_count": 77,
   "id": "8ef041b9-c5f1-4671-bbd5-983a4f3d251e",
   "metadata": {},
   "outputs": [
    {
     "name": "stdout",
     "output_type": "stream",
     "text": [
      "Requirement already satisfied: textblob in d:\\application folders\\anaconda3\\lib\\site-packages (0.18.0.post0)\n",
      "Requirement already satisfied: nltk>=3.8 in d:\\application folders\\anaconda3\\lib\\site-packages (from textblob) (3.8.1)\n",
      "Requirement already satisfied: click in d:\\application folders\\anaconda3\\lib\\site-packages (from nltk>=3.8->textblob) (8.1.7)\n",
      "Requirement already satisfied: joblib in d:\\application folders\\anaconda3\\lib\\site-packages (from nltk>=3.8->textblob) (1.4.2)\n",
      "Requirement already satisfied: regex>=2021.8.3 in d:\\application folders\\anaconda3\\lib\\site-packages (from nltk>=3.8->textblob) (2023.10.3)\n",
      "Requirement already satisfied: tqdm in d:\\application folders\\anaconda3\\lib\\site-packages (from nltk>=3.8->textblob) (4.66.4)\n",
      "Requirement already satisfied: colorama in c:\\users\\hp\\appdata\\roaming\\python\\python312\\site-packages (from click->nltk>=3.8->textblob) (0.4.6)\n",
      "Note: you may need to restart the kernel to use updated packages.\n"
     ]
    }
   ],
   "source": [
    "pip install textblob"
   ]
  },
  {
   "cell_type": "code",
   "execution_count": 79,
   "id": "0edc838e-283a-40ae-885e-8eb25468dba3",
   "metadata": {},
   "outputs": [],
   "source": [
    "from textblob import TextBlob"
   ]
  },
  {
   "cell_type": "code",
   "execution_count": 81,
   "id": "a64490d2-37e6-492d-8e52-91cd6e71739b",
   "metadata": {},
   "outputs": [],
   "source": [
    "def get_rating(review):\n",
    "    analysis = TextBlob(review)\n",
    "    # Normalize the polarity score from [-1, 1] to [1, 5]\n",
    "    rating = int((analysis.sentiment.polarity + 1) * 2)  # scale to [0, 2]\n",
    "    rating += 1  # scale to [1, 5]\n",
    "    return rating"
   ]
  },
  {
   "cell_type": "code",
   "execution_count": 83,
   "id": "0f77f044-5d21-4e49-b127-6055ad1b7992",
   "metadata": {},
   "outputs": [],
   "source": [
    "df['rating'] = df['review'].apply(get_rating)"
   ]
  },
  {
   "cell_type": "code",
   "execution_count": 85,
   "id": "1f47756e-a427-4b04-824a-5d184cda90e8",
   "metadata": {},
   "outputs": [
    {
     "name": "stdout",
     "output_type": "stream",
     "text": [
      "                                               title  \\\n",
      "0  2002 Dodge Ram Cargo Van 1500 3dr Van (3.9L 6c...   \n",
      "1  2002 Dodge Ram Cargo Van 3500 3dr Ext Van (5.2...   \n",
      "2  2002 Dodge Ram Cargo Van 3500 Maxi 3dr Ext Van...   \n",
      "3  2001 Dodge Ram Cargo Van 2500 Maxi 3dr Ext Van...   \n",
      "4  2001 Dodge Ram Cargo Van 1500 3dr Van (3.9L 6c...   \n",
      "\n",
      "                                              review  rating  \n",
      "0  It's been a great delivery vehicle for my cafe...       3  \n",
      "1  Bought this car as a commuter vehicle for a va...       2  \n",
      "2  This van rocks its the best, lots of \\n room. ...       5  \n",
      "3  Great work vehicle. Drives nice. has lots of r...       4  \n",
      "4  Good solid frame and suspension. Well equipped...       3  \n"
     ]
    }
   ],
   "source": [
    "# Display the updated DataFrame with the rating column\n",
    "print(df[['title', 'review', 'rating']].head())"
   ]
  },
  {
   "cell_type": "code",
   "execution_count": 87,
   "id": "21019b16-79c3-4d84-9848-6fbe59427a67",
   "metadata": {},
   "outputs": [
    {
     "name": "stdout",
     "output_type": "stream",
     "text": [
      "rating\n",
      "2     19\n",
      "3    168\n",
      "4     11\n",
      "5      1\n",
      "Name: count, dtype: int64\n"
     ]
    }
   ],
   "source": [
    "# Count the occurrences of each sentiment rating\n",
    "rating_counts = df['rating'].value_counts().sort_index()\n",
    "print(rating_counts)"
   ]
  },
  {
   "cell_type": "code",
   "execution_count": 89,
   "id": "fefe220f-f403-421c-a196-5edf129d91ff",
   "metadata": {},
   "outputs": [
    {
     "data": {
      "image/png": "[encoded data removed]",
      "text/plain": [
       "<Figure size 800x500 with 1 Axes>"
      ]
     },
     "metadata": {},
     "output_type": "display_data"
    }
   ],
   "source": [
    "import matplotlib.pyplot as plt\n",
    "\n",
    "# Create a bar plot of sentiment ratings\n",
    "plt.figure(figsize=(8, 5))\n",
    "rating_counts.plot(kind='bar', color='skyblue')\n",
    "plt.title('Distribution of Sentiment Ratings')\n",
    "plt.xlabel('Sentiment Rating')\n",
    "plt.ylabel('Number of Reviews')\n",
    "plt.xticks(rotation=0)\n",
    "plt.grid(axis='y')\n",
    "plt.show()"
   ]
  },
  {
   "cell_type": "code",
   "execution_count": 91,
   "id": "62a6dfdb-4575-4a5c-8517-f6cc408eaf05",
   "metadata": {},
   "outputs": [
    {
     "name": "stdout",
     "output_type": "stream",
     "text": [
      "File saved at: C:\\Users\\Hp\\Documents\\Jupyter Notebook\\CarRentalReview\\Merged_TextBlob.csv\n"
     ]
    }
   ],
   "source": [
    "# Specify the output file path\n",
    "output_file_path = r'C:\\Users\\Hp\\Documents\\Jupyter Notebook\\CarRentalReview\\Merged_TextBlob.csv'\n",
    "\n",
    "# Save the DataFrame to a CSV file\n",
    "df[['title', 'review', 'rating']].to_csv(output_file_path, index=False)\n",
    "print(f\"File saved at: {output_file_path}\")"
   ]
  },
  {
   "cell_type": "code",
   "execution_count": 25,
   "id": "e97fccbd-a4a4-4dc7-8d42-20b80d2f958a",
   "metadata": {},
   "outputs": [
    {
     "data": {
      "text/plain": [
       "'C:\\\\Users\\\\Hp\\\\Documents\\\\Jupyter Notebook\\\\CarRentalReview'"
      ]
     },
     "execution_count": 25,
     "metadata": {},
     "output_type": "execute_result"
    }
   ],
   "source": [
    "pwd"
   ]
  },
  {
   "cell_type": "code",
   "execution_count": 93,
   "id": "01bf4726-425c-4703-8bba-aabd9a720c57",
   "metadata": {},
   "outputs": [
    {
     "name": "stdout",
     "output_type": "stream",
     "text": [
      "                                                 title  \\\n",
      "197  2005 Dodge Magnum Wagon SXT AWD 4dr Wagon (3.5...   \n",
      "198  2008 Dodge Magnum Wagon SXT 4dr Wagon (3.5L 6c...   \n",
      "\n",
      "                                                review  rating  \n",
      "197  My 2005 Magnum has numerous serious problems i...       2  \n",
      "198  I special ordered my 2008 Magnum SXT for deliv...       3  \n"
     ]
    }
   ],
   "source": [
    "print(df[['title', 'review', 'rating']].tail(2))"
   ]
  },
  {
   "cell_type": "code",
   "execution_count": 103,
   "id": "643ad735-b8dd-4e8c-aebf-826e663e3ada",
   "metadata": {},
   "outputs": [
    {
     "name": "stdout",
     "output_type": "stream",
     "text": [
      "Existing columns in Merged.csv: ['title', 'review']\n",
      "New review appended to C:/Users/Hp/Documents/Jupyter Notebook/CarRentalReview/Merged.csv\n",
      "New review with rating added to C:/Users/Hp/Documents/Jupyter Notebook/CarRentalReview/Merged_TextBlob.csv\n"
     ]
    }
   ],
   "source": [
    "import pandas as pd\n",
    "import os\n",
    "from textblob import TextBlob\n",
    "\n",
    "# Define file paths\n",
    "merged_file_path = 'C:/Users/Hp/Documents/Jupyter Notebook/CarRentalReview/Merged.csv'\n",
    "merged_textblob_file_path = 'C:/Users/Hp/Documents/Jupyter Notebook/CarRentalReview/Merged_TextBlob.csv'\n",
    "\n",
    "# Function to check and print the columns of the existing CSV file\n",
    "def check_columns():\n",
    "    if os.path.exists(merged_file_path):\n",
    "        # Read the CSV into a DataFrame\n",
    "        df_merged = pd.read_csv(merged_file_path)\n",
    "        \n",
    "        # Print the column names to see what's inside\n",
    "        print(\"Existing columns in Merged.csv:\", df_merged.columns.tolist())\n",
    "        return df_merged\n",
    "    else:\n",
    "        print(f\"{merged_file_path} does not exist.\")\n",
    "        return None\n",
    "\n",
    "# Function to calculate rating from review text\n",
    "def get_rating(review):\n",
    "    blob = TextBlob(review)\n",
    "    polarity_score = blob.sentiment.polarity\n",
    "    # Normalize polarity from [-1, 1] to [1, 5]\n",
    "    return (polarity_score + 1) * 2 + 1\n",
    "\n",
    "# Function to add new review and rating to Merged.csv and Merged_TextBlob.csv\n",
    "def add_review_and_rating(title, review):\n",
    "    # Check if Merged.csv exists\n",
    "    df_merged = check_columns()\n",
    "\n",
    "    if df_merged is None:\n",
    "        # If Merged.csv doesn't exist, create an empty dataframe with correct headers\n",
    "        df_merged = pd.DataFrame(columns=['title', 'review'])\n",
    "        print(\"Created new Merged.csv\")\n",
    "\n",
    "    # Create a new row for the review\n",
    "    new_review_row = pd.DataFrame({'title': [title], 'review': [review]})\n",
    "\n",
    "    # Append new review while maintaining column order\n",
    "    df_merged = pd.concat([df_merged[['title', 'review']], new_review_row[['title', 'review']]], ignore_index=True)\n",
    "\n",
    "    # Save to Merged.csv\n",
    "    df_merged.to_csv(merged_file_path, index=False)\n",
    "    print(f\"New review appended to {merged_file_path}\")\n",
    "\n",
    "    # Get rating for the review\n",
    "    rating = get_rating(review)\n",
    "\n",
    "    # Add review with rating to Merged_TextBlob.csv\n",
    "    if os.path.exists(merged_textblob_file_path):\n",
    "        df_textblob = pd.read_csv(merged_textblob_file_path)\n",
    "    else:\n",
    "        df_textblob = pd.DataFrame(columns=['title', 'review', 'rating'])\n",
    "\n",
    "    # Create new row for Merged_TextBlob.csv with rating\n",
    "    new_review_row_textblob = pd.DataFrame({'title': [title], 'review': [review], 'rating': [rating]})\n",
    "\n",
    "    # Append the new review row with rating to Merged_TextBlob.csv\n",
    "    df_textblob = pd.concat([df_textblob[['title', 'review', 'rating']], new_review_row_textblob[['title', 'review', 'rating']]], ignore_index=True)\n",
    "\n",
    "    # Save to Merged_TextBlob.csv\n",
    "    df_textblob.to_csv(merged_textblob_file_path, index=False)\n",
    "    print(f\"New review with rating added to {merged_textblob_file_path}\")\n",
    "\n",
    "# Example usage\n",
    "add_review_and_rating(\"Toyota test\", \"The car was way speedy and saved our time\")"
   ]
  },
  {
   "cell_type": "code",
   "execution_count": null,
   "id": "5f517a24-7b1e-455c-9872-57d65d28394e",
   "metadata": {},
   "outputs": [],
   "source": []
  }
 ],
 "metadata": {
  "kernelspec": {
   "display_name": "Python 3 (ipykernel)",
   "language": "python",
   "name": "python3"
  },
  "language_info": {
   "codemirror_mode": {
    "name": "ipython",
    "version": 3
   },
   "file_extension": ".py",
   "mimetype": "text/x-python",
   "name": "python",
   "nbconvert_exporter": "python",
   "pygments_lexer": "ipython3",
   "version": "3.12.4"
  }
 },
 "nbformat": 4,
 "nbformat_minor": 5
}
