{
 "cells": [
  {
   "cell_type": "code",
   "execution_count": 5,
   "id": "35344256-3e90-4c47-a56c-982883772ccc",
   "metadata": {},
   "outputs": [
    {
     "name": "stdout",
     "output_type": "stream",
     "text": [
      "Requirement already satisfied: pandas in d:\\application folders\\anaconda3\\lib\\site-packages (2.2.2)\n",
      "Requirement already satisfied: numpy>=1.26.0 in d:\\application folders\\anaconda3\\lib\\site-packages (from pandas) (1.26.4)\n",
      "Requirement already satisfied: python-dateutil>=2.8.2 in d:\\application folders\\anaconda3\\lib\\site-packages (from pandas) (2.9.0.post0)\n",
      "Requirement already satisfied: pytz>=2020.1 in d:\\application folders\\anaconda3\\lib\\site-packages (from pandas) (2024.1)\n",
      "Requirement already satisfied: tzdata>=2022.7 in d:\\application folders\\anaconda3\\lib\\site-packages (from pandas) (2023.3)\n",
      "Requirement already satisfied: six>=1.5 in d:\\application folders\\anaconda3\\lib\\site-packages (from python-dateutil>=2.8.2->pandas) (1.16.0)\n",
      "Note: you may need to restart the kernel to use updated packages.\n"
     ]
    }
   ],
   "source": [
    "pip install pandas"
   ]
  },
  {
   "cell_type": "code",
   "execution_count": 7,
   "id": "e06ed16a-3ca8-4191-99c3-444038517cf3",
   "metadata": {},
   "outputs": [],
   "source": [
    "import pandas as pd"
   ]
  },
  {
   "cell_type": "code",
   "execution_count": 9,
   "id": "99a264da-4a87-4663-8822-f89e4c189311",
   "metadata": {},
   "outputs": [],
   "source": [
    "df = pd.read_csv(r\"D:\\Programming\\Github Repository\\Design-Project---1\\CarRentalReview.csv\", encoding='ISO-8859-1')"
   ]
  },
  {
   "cell_type": "code",
   "execution_count": 11,
   "id": "3695fa5b-374b-4ae7-b25d-65515a1bbb67",
   "metadata": {},
   "outputs": [
    {
     "name": "stdout",
     "output_type": "stream",
     "text": [
      "   id car_name                                             review\n",
      "0   1  audi A6  Great pricing, smooth ride, and the car was sp...\n",
      "1   2  audi A6  The car was great for the city, and the driver...\n",
      "2   3  audi A4  Smooth drive through the mountains, but the re...\n",
      "3   4  audi A3  The pricing was spot-on, and the car was very ...\n",
      "4   5  audi Q3  Affordable price, and the car had no issues du...\n"
     ]
    }
   ],
   "source": [
    "print(df.head())"
   ]
  },
  {
   "cell_type": "code",
   "execution_count": 13,
   "id": "69213ea7-6ce4-4cb6-a193-282303ffbe14",
   "metadata": {},
   "outputs": [
    {
     "name": "stdout",
     "output_type": "stream",
     "text": [
      "Requirement already satisfied: textblob in d:\\application folders\\anaconda3\\lib\\site-packages (0.18.0.post0)Note: you may need to restart the kernel to use updated packages.\n",
      "\n",
      "Requirement already satisfied: nltk>=3.8 in d:\\application folders\\anaconda3\\lib\\site-packages (from textblob) (3.8.1)\n",
      "Requirement already satisfied: click in d:\\application folders\\anaconda3\\lib\\site-packages (from nltk>=3.8->textblob) (8.1.7)\n",
      "Requirement already satisfied: joblib in d:\\application folders\\anaconda3\\lib\\site-packages (from nltk>=3.8->textblob) (1.4.2)\n",
      "Requirement already satisfied: regex>=2021.8.3 in d:\\application folders\\anaconda3\\lib\\site-packages (from nltk>=3.8->textblob) (2023.10.3)\n",
      "Requirement already satisfied: tqdm in d:\\application folders\\anaconda3\\lib\\site-packages (from nltk>=3.8->textblob) (4.66.4)\n",
      "Requirement already satisfied: colorama in c:\\users\\hp\\appdata\\roaming\\python\\python312\\site-packages (from click->nltk>=3.8->textblob) (0.4.6)\n"
     ]
    }
   ],
   "source": [
    "pip install textblob"
   ]
  },
  {
   "cell_type": "code",
   "execution_count": 15,
   "id": "9faa813a-53b4-497f-aabe-f14eec2b601a",
   "metadata": {},
   "outputs": [],
   "source": [
    "from textblob import TextBlob"
   ]
  },
  {
   "cell_type": "code",
   "execution_count": 17,
   "id": "0532d504-9092-4670-ba0c-60026a6bc74a",
   "metadata": {},
   "outputs": [],
   "source": [
    "# def get_rating(review):\n",
    "#     analysis = TextBlob(review)\n",
    "#     # Normalize the polarity score from [-1, 1] to [1, 5]\n",
    "#     rating = int((analysis.sentiment.polarity + 1) * 2)  # scale to [0, 2]\n",
    "#     rating += 1  # scale to [1, 5]\n",
    "#     return rating\n",
    "\n",
    "def get_rating(review):\n",
    "    analysis = TextBlob(review)\n",
    "    polarity = analysis.sentiment.polarity\n",
    "    polarity += 1  # Shift the range from [-1, 1] to [0, 2]\n",
    "    \n",
    "    if polarity <= 0.4:  # -1.0 to -0.6 originally\n",
    "        rating=1\n",
    "    elif polarity <= 0.8:  # -0.6 to -0.2 originally\n",
    "        rating=2\n",
    "    elif polarity <= 1.2:  # -0.2 to 0.2 originally\n",
    "        rating=3\n",
    "    elif polarity <= 1.6:  # 0.2 to 0.6 originally\n",
    "        rating=4\n",
    "    else:  # > 0.6 originally\n",
    "        rating=5\n",
    "    \n",
    "    print(f\"(Polarity score: {polarity:.3f})\")\n",
    "    return rating"
   ]
  },
  {
   "cell_type": "code",
   "execution_count": 19,
   "id": "63f19259-f973-4224-a71e-16073560abe6",
   "metadata": {},
   "outputs": [
    {
     "name": "stdout",
     "output_type": "stream",
     "text": [
      "(Polarity score: 1.482)\n",
      "(Polarity score: 1.467)\n",
      "(Polarity score: 1.339)\n",
      "(Polarity score: 1.308)\n",
      "(Polarity score: 1.333)\n",
      "(Polarity score: 1.368)\n",
      "(Polarity score: 1.208)\n",
      "(Polarity score: 1.200)\n",
      "(Polarity score: 1.450)\n",
      "(Polarity score: 1.492)\n",
      "(Polarity score: 1.380)\n",
      "(Polarity score: 1.408)\n",
      "(Polarity score: 1.315)\n",
      "(Polarity score: 1.700)\n",
      "(Polarity score: 1.493)\n",
      "(Polarity score: 1.550)\n",
      "(Polarity score: 1.386)\n",
      "(Polarity score: 1.094)\n",
      "(Polarity score: 1.453)\n",
      "(Polarity score: 1.303)\n",
      "(Polarity score: 1.902)\n",
      "(Polarity score: 1.288)\n",
      "(Polarity score: 1.442)\n",
      "(Polarity score: 1.300)\n",
      "(Polarity score: 1.353)\n",
      "(Polarity score: 1.339)\n",
      "(Polarity score: 1.365)\n",
      "(Polarity score: 1.396)\n",
      "(Polarity score: 1.056)\n",
      "(Polarity score: 1.422)\n",
      "(Polarity score: 1.600)\n",
      "(Polarity score: 1.456)\n",
      "(Polarity score: 1.567)\n",
      "(Polarity score: 1.438)\n",
      "(Polarity score: 1.433)\n",
      "(Polarity score: 1.438)\n",
      "(Polarity score: 1.733)\n",
      "(Polarity score: 1.400)\n",
      "(Polarity score: 1.383)\n",
      "(Polarity score: 1.400)\n",
      "(Polarity score: 1.453)\n",
      "(Polarity score: 1.635)\n",
      "(Polarity score: 1.700)\n",
      "(Polarity score: 1.613)\n",
      "(Polarity score: 1.211)\n",
      "(Polarity score: 1.093)\n",
      "(Polarity score: 1.733)\n",
      "(Polarity score: 1.229)\n",
      "(Polarity score: 1.667)\n",
      "(Polarity score: 1.262)\n",
      "(Polarity score: 1.467)\n",
      "(Polarity score: 1.475)\n",
      "(Polarity score: 1.288)\n",
      "(Polarity score: 1.285)\n",
      "(Polarity score: 1.700)\n",
      "(Polarity score: 1.442)\n",
      "(Polarity score: 1.230)\n",
      "(Polarity score: 1.431)\n",
      "(Polarity score: 1.263)\n",
      "(Polarity score: 1.792)\n",
      "(Polarity score: 1.272)\n",
      "(Polarity score: 1.558)\n",
      "(Polarity score: 1.267)\n",
      "(Polarity score: 1.387)\n",
      "(Polarity score: 1.289)\n",
      "(Polarity score: 1.494)\n",
      "(Polarity score: 1.380)\n",
      "(Polarity score: 1.467)\n",
      "(Polarity score: 1.540)\n",
      "(Polarity score: 1.767)\n",
      "(Polarity score: 1.381)\n",
      "(Polarity score: 1.450)\n",
      "(Polarity score: 1.058)\n",
      "(Polarity score: 1.467)\n",
      "(Polarity score: 1.550)\n",
      "(Polarity score: 1.033)\n",
      "(Polarity score: 2.000)\n",
      "(Polarity score: 2.000)\n"
     ]
    }
   ],
   "source": [
    "df['rating'] = df['review'].apply(get_rating)"
   ]
  },
  {
   "cell_type": "code",
   "execution_count": 21,
   "id": "c6a11d08-3f73-4942-bdef-b21b27720b82",
   "metadata": {},
   "outputs": [
    {
     "name": "stdout",
     "output_type": "stream",
     "text": [
      "   id car_name                                             review  rating\n",
      "0   1  audi A6  Great pricing, smooth ride, and the car was sp...       4\n",
      "1   2  audi A6  The car was great for the city, and the driver...       4\n",
      "2   3  audi A4  Smooth drive through the mountains, but the re...       4\n",
      "3   4  audi A3  The pricing was spot-on, and the car was very ...       4\n",
      "4   5  audi Q3  Affordable price, and the car had no issues du...       4\n"
     ]
    }
   ],
   "source": [
    "# Display the updated DataFrame with the rating column\n",
    "print(df[['id', 'car_name', 'review', 'rating']].head())"
   ]
  },
  {
   "cell_type": "code",
   "execution_count": 23,
   "id": "71e2a3a9-3e95-42fb-bb29-79280cfd105d",
   "metadata": {},
   "outputs": [
    {
     "name": "stdout",
     "output_type": "stream",
     "text": [
      "rating\n",
      "3     6\n",
      "4    59\n",
      "5    13\n",
      "Name: count, dtype: int64\n"
     ]
    }
   ],
   "source": [
    "# Count the occurrences of each sentiment rating\n",
    "rating_counts = df['rating'].value_counts().sort_index()\n",
    "print(rating_counts)"
   ]
  },
  {
   "cell_type": "code",
   "execution_count": 25,
   "id": "29581914-f223-4f7e-8777-85cbf4e2669a",
   "metadata": {},
   "outputs": [
    {
     "data": {
      "image/png": "[encoded data removed]",
      "text/plain": [
       "<Figure size 800x500 with 1 Axes>"
      ]
     },
     "metadata": {},
     "output_type": "display_data"
    }
   ],
   "source": [
    "import matplotlib.pyplot as plt\n",
    "\n",
    "# Create a bar plot of sentiment ratings\n",
    "plt.figure(figsize=(8, 5))\n",
    "rating_counts.plot(kind='bar', color='skyblue')\n",
    "plt.title('Distribution of Sentiment Ratings')\n",
    "plt.xlabel('Sentiment Rating')\n",
    "plt.ylabel('Number of Reviews')\n",
    "plt.xticks(rotation=0)\n",
    "plt.grid(axis='y')\n",
    "plt.show()"
   ]
  },
  {
   "cell_type": "code",
   "execution_count": 27,
   "id": "a0582384-08c2-49ab-8f92-2e1e5ea4ecbe",
   "metadata": {},
   "outputs": [
    {
     "name": "stdout",
     "output_type": "stream",
     "text": [
      "File saved at: D:\\Programming\\Github Repository\\Design-Project---1\\RatingFromReview_TextBlob.csv\n"
     ]
    }
   ],
   "source": [
    "# Specify the output file path\n",
    "output_file_path = r\"D:\\Programming\\Github Repository\\Design-Project---1\\RatingFromReview_TextBlob.csv\"\n",
    "\n",
    "# Save the DataFrame to a CSV file\n",
    "df[['id', 'car_name', 'review', 'rating']].to_csv(output_file_path, index=False)\n",
    "print(f\"File saved at: {output_file_path}\")"
   ]
  },
  {
   "cell_type": "code",
   "execution_count": 29,
   "id": "3d9266d9-e74f-4a63-b6d9-f439d8832c3e",
   "metadata": {},
   "outputs": [
    {
     "data": {
      "text/plain": [
       "'D:\\\\Programming\\\\Github Repository\\\\Design-Project---1'"
      ]
     },
     "execution_count": 29,
     "metadata": {},
     "output_type": "execute_result"
    }
   ],
   "source": [
    "pwd"
   ]
  },
  {
   "cell_type": "code",
   "execution_count": 31,
   "id": "a7908094-e03c-4bd4-98cd-ab1e950f35cb",
   "metadata": {},
   "outputs": [
    {
     "name": "stdout",
     "output_type": "stream",
     "text": [
      "D:\\Programming\\Github Repository\\Design-Project---1\n"
     ]
    }
   ],
   "source": [
    "import os\n",
    "print(os.getcwd())"
   ]
  },
  {
   "cell_type": "code",
   "execution_count": 33,
   "id": "96b131af-fa97-4143-9791-0ed6d55f8856",
   "metadata": {},
   "outputs": [
    {
     "name": "stdout",
     "output_type": "stream",
     "text": [
      "    id car_name                                           review  rating\n",
      "76  77  New Car  The journey was awesome. The driver was helpful       5\n",
      "77  78  New Car  The journey was awesome. The driver was helpful       5\n"
     ]
    }
   ],
   "source": [
    "print(df[['id', 'car_name', 'review', 'rating']].tail(2))"
   ]
  },
  {
   "cell_type": "code",
   "execution_count": 35,
   "id": "6e71799c-2987-4fef-8563-b4d7192dd24c",
   "metadata": {},
   "outputs": [],
   "source": [
    "import os\n",
    "\n",
    "def add_review_and_update_csv(new_review):\n",
    "    # Paths to the original and ratings CSV files\n",
    "    original_file_path = r\"D:\\Programming\\Github Repository\\Design-Project---1\\CarRentalReview.csv\"\n",
    "    output_file_path = r\"D:\\Programming\\Github Repository\\Design-Project---1\\RatingFromReview_TextBlob.csv\"\n",
    "\n",
    "    # Load existing reviews\n",
    "    df = pd.read_csv(original_file_path)\n",
    "\n",
    "    # Generate a new ID for the new review\n",
    "    new_id = df['id'].max() + 1 if not df.empty else 1\n",
    "\n",
    "    # Calculate rating for the new review\n",
    "    rating = get_rating(new_review)\n",
    "\n",
    "    # Create a DataFrame for the new row (without the rating column)\n",
    "    new_row = pd.DataFrame({\n",
    "        'id': [new_id],\n",
    "        'car_name': ['New Car'],\n",
    "        'review': [new_review]\n",
    "    })\n",
    "\n",
    "    # Concatenate the new row with the existing DataFrame\n",
    "    df = pd.concat([df, new_row], ignore_index=True)\n",
    "\n",
    "    # Save the updated DataFrame to the original file without the rating column\n",
    "    df.to_csv(original_file_path, index=False)\n",
    "    print(f\"Original file updated and saved at: {original_file_path}\")\n",
    "\n",
    "    # Add the rating to the ratings CSV\n",
    "    df_ratings = pd.read_csv(output_file_path) if os.path.exists(output_file_path) else pd.DataFrame(columns=['id', 'car_name', 'review', 'rating'])\n",
    "    new_row_with_rating = new_row.copy()\n",
    "    new_row_with_rating['rating'] = rating\n",
    "    df_ratings = pd.concat([df_ratings, new_row_with_rating], ignore_index=True)\n",
    "    df_ratings.to_csv(output_file_path, index=False)\n",
    "    print(f\"Ratings file updated and saved at: {output_file_path}\")\n",
    "\n",
    "# Example usage\n",
    "# add_review_and_update_csv(\"The journey was awesome. The driver was helpful\")"
   ]
  },
  {
   "cell_type": "code",
   "execution_count": null,
   "id": "dbf971a1-3c92-407e-933c-cab8553d373a",
   "metadata": {},
   "outputs": [],
   "source": []
  }
 ],
 "metadata": {
  "kernelspec": {
   "display_name": "Python 3 (ipykernel)",
   "language": "python",
   "name": "python3"
  },
  "language_info": {
   "codemirror_mode": {
    "name": "ipython",
    "version": 3
   },
   "file_extension": ".py",
   "mimetype": "text/x-python",
   "name": "python",
   "nbconvert_exporter": "python",
   "pygments_lexer": "ipython3",
   "version": "3.12.4"
  }
 },
 "nbformat": 4,
 "nbformat_minor": 5
}
