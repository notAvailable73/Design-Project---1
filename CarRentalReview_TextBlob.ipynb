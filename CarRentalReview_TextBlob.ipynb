{
 "cells": [
  {
   "cell_type": "code",
   "execution_count": 3,
   "id": "35344256-3e90-4c47-a56c-982883772ccc",
   "metadata": {},
   "outputs": [
    {
     "name": "stdout",
     "output_type": "stream",
     "text": [
      "Requirement already satisfied: pandas in d:\\application folders\\anaconda3\\lib\\site-packages (2.2.2)\n",
      "Requirement already satisfied: numpy>=1.26.0 in d:\\application folders\\anaconda3\\lib\\site-packages (from pandas) (1.26.4)\n",
      "Requirement already satisfied: python-dateutil>=2.8.2 in d:\\application folders\\anaconda3\\lib\\site-packages (from pandas) (2.9.0.post0)\n",
      "Requirement already satisfied: pytz>=2020.1 in d:\\application folders\\anaconda3\\lib\\site-packages (from pandas) (2024.1)\n",
      "Requirement already satisfied: tzdata>=2022.7 in d:\\application folders\\anaconda3\\lib\\site-packages (from pandas) (2023.3)\n",
      "Requirement already satisfied: six>=1.5 in d:\\application folders\\anaconda3\\lib\\site-packages (from python-dateutil>=2.8.2->pandas) (1.16.0)\n",
      "Note: you may need to restart the kernel to use updated packages.\n"
     ]
    }
   ],
   "source": [
    "pip install pandas"
   ]
  },
  {
   "cell_type": "code",
   "execution_count": 4,
   "id": "e06ed16a-3ca8-4191-99c3-444038517cf3",
   "metadata": {},
   "outputs": [],
   "source": [
    "import pandas as pd"
   ]
  },
  {
   "cell_type": "code",
   "execution_count": 67,
   "id": "99a264da-4a87-4663-8822-f89e4c189311",
   "metadata": {},
   "outputs": [],
   "source": [
    "df = pd.read_csv(r'C:\\Users\\Hp\\Documents\\Jupyter Notebook\\CarRentalReview\\CarRentalReview.csv', encoding='ISO-8859-1')"
   ]
  },
  {
   "cell_type": "code",
   "execution_count": 9,
   "id": "3695fa5b-374b-4ae7-b25d-65515a1bbb67",
   "metadata": {},
   "outputs": [
    {
     "name": "stdout",
     "output_type": "stream",
     "text": [
      "   ID car_name                                             review\n",
      "0   2  audi A6  I liked the Audi over the Mercedes, BMW, and L...\n",
      "1   3  audi A4  Best car I've ever owned, hands down. I am a 3...\n",
      "2   4  audi A3  I am so impressed with the new A3, itâs quic...\n",
      "3   5  audi Q3  While I am reviewing the Q3 I got a mere five ...\n",
      "4   6  audi Q5  Great suv with many bells and whistles. Smooth...\n"
     ]
    }
   ],
   "source": [
    "print(df.head())"
   ]
  },
  {
   "cell_type": "code",
   "execution_count": 69,
   "id": "69213ea7-6ce4-4cb6-a193-282303ffbe14",
   "metadata": {},
   "outputs": [
    {
     "name": "stdout",
     "output_type": "stream",
     "text": [
      "Requirement already satisfied: textblob in d:\\application folders\\anaconda3\\lib\\site-packages (0.18.0.post0)\n",
      "Requirement already satisfied: nltk>=3.8 in d:\\application folders\\anaconda3\\lib\\site-packages (from textblob) (3.8.1)\n",
      "Requirement already satisfied: click in d:\\application folders\\anaconda3\\lib\\site-packages (from nltk>=3.8->textblob) (8.1.7)\n",
      "Requirement already satisfied: joblib in d:\\application folders\\anaconda3\\lib\\site-packages (from nltk>=3.8->textblob) (1.4.2)\n",
      "Requirement already satisfied: regex>=2021.8.3 in d:\\application folders\\anaconda3\\lib\\site-packages (from nltk>=3.8->textblob) (2023.10.3)\n",
      "Requirement already satisfied: tqdm in d:\\application folders\\anaconda3\\lib\\site-packages (from nltk>=3.8->textblob) (4.66.4)\n",
      "Requirement already satisfied: colorama in c:\\users\\hp\\appdata\\roaming\\python\\python312\\site-packages (from click->nltk>=3.8->textblob) (0.4.6)\n",
      "Note: you may need to restart the kernel to use updated packages.\n"
     ]
    }
   ],
   "source": [
    "pip install textblob"
   ]
  },
  {
   "cell_type": "code",
   "execution_count": 71,
   "id": "9faa813a-53b4-497f-aabe-f14eec2b601a",
   "metadata": {},
   "outputs": [],
   "source": [
    "from textblob import TextBlob"
   ]
  },
  {
   "cell_type": "code",
   "execution_count": 73,
   "id": "0532d504-9092-4670-ba0c-60026a6bc74a",
   "metadata": {},
   "outputs": [],
   "source": [
    "def get_rating(review):\n",
    "    analysis = TextBlob(review)\n",
    "    # Normalize the polarity score from [-1, 1] to [1, 5]\n",
    "    rating = int((analysis.sentiment.polarity + 1) * 2)  # scale to [0, 2]\n",
    "    rating += 1  # scale to [1, 5]\n",
    "    return rating"
   ]
  },
  {
   "cell_type": "code",
   "execution_count": 75,
   "id": "63f19259-f973-4224-a71e-16073560abe6",
   "metadata": {},
   "outputs": [],
   "source": [
    "df['rating'] = df['review'].apply(get_rating)"
   ]
  },
  {
   "cell_type": "code",
   "execution_count": 77,
   "id": "c6a11d08-3f73-4942-bdef-b21b27720b82",
   "metadata": {},
   "outputs": [
    {
     "name": "stdout",
     "output_type": "stream",
     "text": [
      "   ID car_name                                             review  rating\n",
      "0   2  audi A6  I liked the Audi over the Mercedes, BMW, and L...       3\n",
      "1   3  audi A4  Best car I've ever owned, hands down. I am a 3...       3\n",
      "2   4  audi A3  I am so impressed with the new A3, itâs quic...       4\n",
      "3   5  audi Q3  While I am reviewing the Q3 I got a mere five ...       3\n",
      "4   6  audi Q5  Great suv with many bells and whistles. Smooth...       3\n"
     ]
    }
   ],
   "source": [
    "# Display the updated DataFrame with the rating column\n",
    "print(df[['ID', 'car_name', 'review', 'rating']].head())"
   ]
  },
  {
   "cell_type": "code",
   "execution_count": 79,
   "id": "71e2a3a9-3e95-42fb-bb29-79280cfd105d",
   "metadata": {},
   "outputs": [
    {
     "name": "stdout",
     "output_type": "stream",
     "text": [
      "rating\n",
      "2     3\n",
      "3    59\n",
      "4    11\n",
      "5     1\n",
      "Name: count, dtype: int64\n"
     ]
    }
   ],
   "source": [
    "# Count the occurrences of each sentiment rating\n",
    "rating_counts = df['rating'].value_counts().sort_index()\n",
    "print(rating_counts)"
   ]
  },
  {
   "cell_type": "code",
   "execution_count": 81,
   "id": "29581914-f223-4f7e-8777-85cbf4e2669a",
   "metadata": {},
   "outputs": [
    {
     "data": {
      "image/png": "[encoded data removed]",
      "text/plain": [
       "<Figure size 800x500 with 1 Axes>"
      ]
     },
     "metadata": {},
     "output_type": "display_data"
    }
   ],
   "source": [
    "import matplotlib.pyplot as plt\n",
    "\n",
    "# Create a bar plot of sentiment ratings\n",
    "plt.figure(figsize=(8, 5))\n",
    "rating_counts.plot(kind='bar', color='skyblue')\n",
    "plt.title('Distribution of Sentiment Ratings')\n",
    "plt.xlabel('Sentiment Rating')\n",
    "plt.ylabel('Number of Reviews')\n",
    "plt.xticks(rotation=0)\n",
    "plt.grid(axis='y')\n",
    "plt.show()"
   ]
  },
  {
   "cell_type": "code",
   "execution_count": 83,
   "id": "a0582384-08c2-49ab-8f92-2e1e5ea4ecbe",
   "metadata": {},
   "outputs": [
    {
     "name": "stdout",
     "output_type": "stream",
     "text": [
      "File saved at: C:\\Users\\Hp\\Documents\\Jupyter Notebook\\CarRentalReview\\RatingFromReview_TextBlob.csv\n"
     ]
    }
   ],
   "source": [
    "# Specify the output file path\n",
    "output_file_path = r'C:\\Users\\Hp\\Documents\\Jupyter Notebook\\CarRentalReview\\RatingFromReview_TextBlob.csv'\n",
    "\n",
    "# Save the DataFrame to a CSV file\n",
    "df[['ID', 'car_name', 'review', 'rating']].to_csv(output_file_path, index=False)\n",
    "print(f\"File saved at: {output_file_path}\")"
   ]
  },
  {
   "cell_type": "code",
   "execution_count": 100,
   "id": "3d9266d9-e74f-4a63-b6d9-f439d8832c3e",
   "metadata": {},
   "outputs": [
    {
     "data": {
      "text/plain": [
       "'C:\\\\Users\\\\Hp\\\\Documents\\\\Jupyter Notebook\\\\CarRentalReview'"
      ]
     },
     "execution_count": 100,
     "metadata": {},
     "output_type": "execute_result"
    }
   ],
   "source": [
    "pwd"
   ]
  },
  {
   "cell_type": "code",
   "execution_count": 85,
   "id": "a7908094-e03c-4bd4-98cd-ab1e950f35cb",
   "metadata": {},
   "outputs": [
    {
     "name": "stdout",
     "output_type": "stream",
     "text": [
      "C:\\Users\\Hp\\Documents\\Jupyter Notebook\\CarRentalReview\n"
     ]
    }
   ],
   "source": [
    "import os\n",
    "print(os.getcwd())"
   ]
  },
  {
   "cell_type": "code",
   "execution_count": 87,
   "id": "96b131af-fa97-4143-9791-0ed6d55f8856",
   "metadata": {},
   "outputs": [
    {
     "name": "stdout",
     "output_type": "stream",
     "text": [
      "     ID     car_name                                             review  \\\n",
      "72  133  Toyota test  Car body was awesome. I reached the destinatio...   \n",
      "73  134      New Car             The driver was nice. We reaced safely.   \n",
      "\n",
      "    rating  \n",
      "72       5  \n",
      "73       4  \n"
     ]
    }
   ],
   "source": [
    "print(df[['ID', 'car_name', 'review', 'rating']].tail(2))"
   ]
  },
  {
   "cell_type": "code",
   "execution_count": 89,
   "id": "6e71799c-2987-4fef-8563-b4d7192dd24c",
   "metadata": {},
   "outputs": [
    {
     "name": "stdout",
     "output_type": "stream",
     "text": [
      "Original file updated and saved at: C:\\Users\\Hp\\Documents\\Jupyter Notebook\\CarRentalReview\\CarRentalReview.csv\n",
      "Ratings file updated and saved at: C:\\Users\\Hp\\Documents\\Jupyter Notebook\\CarRentalReview\\RatingFromReview_TextBlob.csv\n"
     ]
    }
   ],
   "source": [
    "import os\n",
    "\n",
    "def add_review_and_update_csv(new_review):\n",
    "    # Paths to the original and ratings CSV files\n",
    "    original_file_path = r'C:\\Users\\Hp\\Documents\\Jupyter Notebook\\CarRentalReview\\CarRentalReview.csv'\n",
    "    output_file_path = r'C:\\Users\\Hp\\Documents\\Jupyter Notebook\\CarRentalReview\\RatingFromReview_TextBlob.csv'\n",
    "\n",
    "    # Load existing reviews\n",
    "    df = pd.read_csv(original_file_path)\n",
    "\n",
    "    # Generate a new ID for the new review\n",
    "    new_id = df['ID'].max() + 1 if not df.empty else 1\n",
    "\n",
    "    # Calculate rating for the new review\n",
    "    rating = get_rating(new_review)\n",
    "\n",
    "    # Create a DataFrame for the new row (without the rating column)\n",
    "    new_row = pd.DataFrame({\n",
    "        'ID': [new_id],\n",
    "        'car_name': ['New Car'],\n",
    "        'review': [new_review]\n",
    "    })\n",
    "\n",
    "    # Concatenate the new row with the existing DataFrame\n",
    "    df = pd.concat([df, new_row], ignore_index=True)\n",
    "\n",
    "    # Save the updated DataFrame to the original file without the rating column\n",
    "    df.to_csv(original_file_path, index=False)\n",
    "    print(f\"Original file updated and saved at: {original_file_path}\")\n",
    "\n",
    "    # Add the rating to the ratings CSV\n",
    "    df_ratings = pd.read_csv(output_file_path) if os.path.exists(output_file_path) else pd.DataFrame(columns=['ID', 'car_name', 'review', 'rating'])\n",
    "    new_row_with_rating = new_row.copy()\n",
    "    new_row_with_rating['rating'] = rating\n",
    "    df_ratings = pd.concat([df_ratings, new_row_with_rating], ignore_index=True)\n",
    "    df_ratings.to_csv(output_file_path, index=False)\n",
    "    print(f\"Ratings file updated and saved at: {output_file_path}\")\n",
    "\n",
    "# Example usage\n",
    "add_review_and_update_csv(\"The road was difficult. Thanks to the driver for his smooth driving\")"
   ]
  },
  {
   "cell_type": "code",
   "execution_count": null,
   "id": "ffa97745-e840-46c0-81ab-6cfea2c3d445",
   "metadata": {},
   "outputs": [],
   "source": []
  }
 ],
 "metadata": {
  "kernelspec": {
   "display_name": "Python 3 (ipykernel)",
   "language": "python",
   "name": "python3"
  },
  "language_info": {
   "codemirror_mode": {
    "name": "ipython",
    "version": 3
   },
   "file_extension": ".py",
   "mimetype": "text/x-python",
   "name": "python",
   "nbconvert_exporter": "python",
   "pygments_lexer": "ipython3",
   "version": "3.12.4"
  }
 },
 "nbformat": 4,
 "nbformat_minor": 5
}
