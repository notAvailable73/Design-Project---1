{
 "cells": [
  {
   "cell_type": "code",
   "execution_count": 5,
   "id": "35344256-3e90-4c47-a56c-982883772ccc",
   "metadata": {},
   "outputs": [
    {
     "name": "stdout",
     "output_type": "stream",
     "text": [
      "Requirement already satisfied: pandas in d:\\application folders\\anaconda3\\lib\\site-packages (2.2.2)\n",
      "Requirement already satisfied: numpy>=1.26.0 in d:\\application folders\\anaconda3\\lib\\site-packages (from pandas) (1.26.4)\n",
      "Requirement already satisfied: python-dateutil>=2.8.2 in d:\\application folders\\anaconda3\\lib\\site-packages (from pandas) (2.9.0.post0)\n",
      "Requirement already satisfied: pytz>=2020.1 in d:\\application folders\\anaconda3\\lib\\site-packages (from pandas) (2024.1)\n",
      "Requirement already satisfied: tzdata>=2022.7 in d:\\application folders\\anaconda3\\lib\\site-packages (from pandas) (2023.3)\n",
      "Requirement already satisfied: six>=1.5 in d:\\application folders\\anaconda3\\lib\\site-packages (from python-dateutil>=2.8.2->pandas) (1.16.0)\n",
      "Note: you may need to restart the kernel to use updated packages.\n"
     ]
    }
   ],
   "source": [
    "pip install pandas"
   ]
  },
  {
   "cell_type": "code",
   "execution_count": 1,
   "id": "e06ed16a-3ca8-4191-99c3-444038517cf3",
   "metadata": {},
   "outputs": [],
   "source": [
    "import pandas as pd"
   ]
  },
  {
   "cell_type": "code",
   "execution_count": 7,
   "id": "99a264da-4a87-4663-8822-f89e4c189311",
   "metadata": {},
   "outputs": [],
   "source": [
    "df = pd.read_csv(r'C:\\Users\\Hp\\Downloads\\Car Rental Review Collection - Rental_Car_review.csv')"
   ]
  },
  {
   "cell_type": "code",
   "execution_count": 9,
   "id": "3695fa5b-374b-4ae7-b25d-65515a1bbb67",
   "metadata": {},
   "outputs": [
    {
     "name": "stdout",
     "output_type": "stream",
     "text": [
      "   ID car_name  Consumer reviews  \\\n",
      "0   1  audi A1               0.0   \n",
      "1   2  audi A6               4.6   \n",
      "2   3  audi A4               4.6   \n",
      "3   4  audi A3               5.0   \n",
      "4   5  audi Q3               5.0   \n",
      "\n",
      "                                             review1  \\\n",
      "0                                              Blank   \n",
      "1  I had looked at the Mercedes E Class, BMW 5 Se...   \n",
      "2  Best car I've ever owned, hands down. I am a 3...   \n",
      "3  I am so impressed with the new A3, it’s quick,...   \n",
      "4  While I am reviewing the Q3 I got a mere five ...   \n",
      "\n",
      "                                             review2  \\\n",
      "0                                              Blank   \n",
      "1  This car seems to eat oil. I bought this vehic...   \n",
      "2  Traded in my 2005.5 A-4, which I dearly loved ...   \n",
      "3  I must I love my car, we originally went in lo...   \n",
      "4  I transport my most price possessions in this ...   \n",
      "\n",
      "                                             review3  \n",
      "0                                              Blank  \n",
      "1  I had a chance to test drive the 2012 Jag XF a...  \n",
      "2  Easily the best machine I have owned or driven...  \n",
      "3                                                NaN  \n",
      "4            Prepare to be impressed and pay for gas  \n"
     ]
    }
   ],
   "source": [
    "print(df.head())"
   ]
  },
  {
   "cell_type": "code",
   "execution_count": 13,
   "id": "69213ea7-6ce4-4cb6-a193-282303ffbe14",
   "metadata": {},
   "outputs": [
    {
     "name": "stdout",
     "output_type": "stream",
     "text": [
      "Collecting textblob\n",
      "  Downloading textblob-0.18.0.post0-py3-none-any.whl.metadata (4.5 kB)\n",
      "Requirement already satisfied: nltk>=3.8 in d:\\application folders\\anaconda3\\lib\\site-packages (from textblob) (3.8.1)\n",
      "Requirement already satisfied: click in d:\\application folders\\anaconda3\\lib\\site-packages (from nltk>=3.8->textblob) (8.1.7)\n",
      "Requirement already satisfied: joblib in d:\\application folders\\anaconda3\\lib\\site-packages (from nltk>=3.8->textblob) (1.4.2)\n",
      "Requirement already satisfied: regex>=2021.8.3 in d:\\application folders\\anaconda3\\lib\\site-packages (from nltk>=3.8->textblob) (2023.10.3)\n",
      "Requirement already satisfied: tqdm in d:\\application folders\\anaconda3\\lib\\site-packages (from nltk>=3.8->textblob) (4.66.4)\n",
      "Requirement already satisfied: colorama in c:\\users\\hp\\appdata\\roaming\\python\\python312\\site-packages (from click->nltk>=3.8->textblob) (0.4.6)\n",
      "Downloading textblob-0.18.0.post0-py3-none-any.whl (626 kB)\n",
      "   ---------------------------------------- 0.0/626.3 kB ? eta -:--:--\n",
      "   ---------------- ----------------------- 262.1/626.3 kB ? eta -:--:--\n",
      "   --------------------------------- ------ 524.3/626.3 kB 4.2 MB/s eta 0:00:01\n",
      "   --------------------------------- ------ 524.3/626.3 kB 4.2 MB/s eta 0:00:01\n",
      "   -------------------------------------- 626.3/626.3 kB 728.4 kB/s eta 0:00:00\n",
      "Installing collected packages: textblob\n",
      "Successfully installed textblob-0.18.0.post0\n",
      "Note: you may need to restart the kernel to use updated packages.\n"
     ]
    }
   ],
   "source": [
    "pip install textblob"
   ]
  },
  {
   "cell_type": "code",
   "execution_count": 15,
   "id": "9faa813a-53b4-497f-aabe-f14eec2b601a",
   "metadata": {},
   "outputs": [],
   "source": [
    "from textblob import TextBlob"
   ]
  },
  {
   "cell_type": "code",
   "execution_count": 23,
   "id": "0532d504-9092-4670-ba0c-60026a6bc74a",
   "metadata": {},
   "outputs": [],
   "source": [
    "# Combine all review columns into a single \"combined_reviews\" column\n",
    "df['combined_reviews'] = df[['review1', 'review2', 'review3']].apply(lambda x: ' '.join(x.dropna()), axis=1)"
   ]
  },
  {
   "cell_type": "code",
   "execution_count": 25,
   "id": "63f19259-f973-4224-a71e-16073560abe6",
   "metadata": {},
   "outputs": [],
   "source": [
    "# Function to classify sentiment into a rating from 1 to 5\n",
    "def get_sentiment_score(review_text):\n",
    "    blob = TextBlob(review_text)\n",
    "    # Get the polarity score: -1 (negative) to 1 (positive)\n",
    "    sentiment_score = blob.sentiment.polarity\n",
    "    # Map polarity score to a rating between 1 to 5\n",
    "    if sentiment_score <= -0.5:\n",
    "        return 1\n",
    "    elif sentiment_score > -0.5 and sentiment_score <= 0:\n",
    "        return 2\n",
    "    elif sentiment_score > 0 and sentiment_score <= 0.3:\n",
    "        return 3\n",
    "    elif sentiment_score > 0.3 and sentiment_score <= 0.6:\n",
    "        return 4\n",
    "    else:\n",
    "        return 5"
   ]
  },
  {
   "cell_type": "code",
   "execution_count": 27,
   "id": "800a190a-9df5-441b-828b-bf6ff7e74db3",
   "metadata": {},
   "outputs": [],
   "source": [
    "# Apply the function to the combined reviews\n",
    "df['sentiment_rating'] = df['combined_reviews'].apply(get_sentiment_score)"
   ]
  },
  {
   "cell_type": "code",
   "execution_count": 29,
   "id": "c6a11d08-3f73-4942-bdef-b21b27720b82",
   "metadata": {},
   "outputs": [
    {
     "name": "stdout",
     "output_type": "stream",
     "text": [
      "   ID car_name                                   combined_reviews  \\\n",
      "0   1  audi A1                                  Blank Blank Blank   \n",
      "1   2  audi A6  I had looked at the Mercedes E Class, BMW 5 Se...   \n",
      "2   3  audi A4  Best car I've ever owned, hands down. I am a 3...   \n",
      "3   4  audi A3  I am so impressed with the new A3, it’s quick,...   \n",
      "4   5  audi Q3  While I am reviewing the Q3 I got a mere five ...   \n",
      "\n",
      "   sentiment_rating  \n",
      "0                 2  \n",
      "1                 3  \n",
      "2                 3  \n",
      "3                 4  \n",
      "4                 3  \n"
     ]
    }
   ],
   "source": [
    "# Display the updated DataFrame with the sentiment rating\n",
    "print(df[['ID', 'car_name', 'combined_reviews', 'sentiment_rating']].head())"
   ]
  },
  {
   "cell_type": "code",
   "execution_count": 31,
   "id": "10b0f3c8-940f-4b86-877b-dc3ed82a4cf2",
   "metadata": {},
   "outputs": [
    {
     "name": "stdout",
     "output_type": "stream",
     "text": [
      "   ID car_name                                   combined_reviews  \\\n",
      "0   1  audi A1                                  Blank Blank Blank   \n",
      "1   2  audi A6  I had looked at the Mercedes E Class, BMW 5 Se...   \n",
      "2   3  audi A4  Best car I've ever owned, hands down. I am a 3...   \n",
      "3   4  audi A3  I am so impressed with the new A3, it’s quick,...   \n",
      "4   5  audi Q3  While I am reviewing the Q3 I got a mere five ...   \n",
      "\n",
      "   sentiment_rating  \n",
      "0                 2  \n",
      "1                 3  \n",
      "2                 3  \n",
      "3                 4  \n",
      "4                 3  \n"
     ]
    }
   ],
   "source": [
    "# Display the first few rows of the updated DataFrame\n",
    "print(df[['ID', 'car_name', 'combined_reviews', 'sentiment_rating']].head())"
   ]
  },
  {
   "cell_type": "code",
   "execution_count": 33,
   "id": "71e2a3a9-3e95-42fb-bb29-79280cfd105d",
   "metadata": {},
   "outputs": [
    {
     "name": "stdout",
     "output_type": "stream",
     "text": [
      "sentiment_rating\n",
      "2    62\n",
      "3    51\n",
      "4    18\n",
      "5     3\n",
      "Name: count, dtype: int64\n"
     ]
    }
   ],
   "source": [
    "# Count the occurrences of each sentiment rating\n",
    "rating_counts = df['sentiment_rating'].value_counts().sort_index()\n",
    "print(rating_counts)"
   ]
  },
  {
   "cell_type": "code",
   "execution_count": 35,
   "id": "29581914-f223-4f7e-8777-85cbf4e2669a",
   "metadata": {},
   "outputs": [
    {
     "data": {
      "image/png": "[encoded data removed]",
      "text/plain": [
       "<Figure size 800x500 with 1 Axes>"
      ]
     },
     "metadata": {},
     "output_type": "display_data"
    }
   ],
   "source": [
    "import matplotlib.pyplot as plt\n",
    "\n",
    "# Create a bar plot of sentiment ratings\n",
    "plt.figure(figsize=(8, 5))\n",
    "rating_counts.plot(kind='bar', color='skyblue')\n",
    "plt.title('Distribution of Sentiment Ratings')\n",
    "plt.xlabel('Sentiment Rating')\n",
    "plt.ylabel('Number of Reviews')\n",
    "plt.xticks(rotation=0)\n",
    "plt.grid(axis='y')\n",
    "plt.show()"
   ]
  },
  {
   "cell_type": "code",
   "execution_count": 37,
   "id": "a0582384-08c2-49ab-8f92-2e1e5ea4ecbe",
   "metadata": {},
   "outputs": [
    {
     "name": "stdout",
     "output_type": "stream",
     "text": [
      "File saved at: C:\\Users\\Hp\\Downloads\\Car_Rental_Review_Analysis.csv\n"
     ]
    }
   ],
   "source": [
    "output_file_path = r'C:\\Users\\Hp\\Downloads\\Car_Rental_Review_Analysis.csv'  # Update this path as needed\n",
    "df[['ID', 'car_name', 'combined_reviews', 'sentiment_rating']].to_csv(output_file_path, index=False)\n",
    "print(f\"File saved at: {r'C:\\Users\\Hp\\Downloads\\Car_Rental_Review_Analysis.csv'}\")"
   ]
  },
  {
   "cell_type": "code",
   "execution_count": 43,
   "id": "3d9266d9-e74f-4a63-b6d9-f439d8832c3e",
   "metadata": {},
   "outputs": [
    {
     "data": {
      "text/plain": [
       "'C:\\\\Users\\\\Hp'"
      ]
     },
     "execution_count": 43,
     "metadata": {},
     "output_type": "execute_result"
    }
   ],
   "source": [
    "pwd"
   ]
  },
  {
   "cell_type": "code",
   "execution_count": 45,
   "id": "a7908094-e03c-4bd4-98cd-ab1e950f35cb",
   "metadata": {},
   "outputs": [
    {
     "name": "stdout",
     "output_type": "stream",
     "text": [
      "C:\\Users\\Hp\n"
     ]
    }
   ],
   "source": [
    "import os\n",
    "print(os.getcwd())"
   ]
  }
 ],
 "metadata": {
  "kernelspec": {
   "display_name": "Python 3 (ipykernel)",
   "language": "python",
   "name": "python3"
  },
  "language_info": {
   "codemirror_mode": {
    "name": "ipython",
    "version": 3
   },
   "file_extension": ".py",
   "mimetype": "text/x-python",
   "name": "python",
   "nbconvert_exporter": "python",
   "pygments_lexer": "ipython3",
   "version": "3.12.4"
  }
 },
 "nbformat": 4,
 "nbformat_minor": 5
}
