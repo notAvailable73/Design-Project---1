{
 "cells": [
  {
   "cell_type": "code",
   "execution_count": 1,
   "id": "861ebe78-8822-40c4-a260-08081749345f",
   "metadata": {},
   "outputs": [
    {
     "name": "stdout",
     "output_type": "stream",
     "text": [
      "Collecting vaderSentiment\n",
      "  Downloading vaderSentiment-3.3.2-py2.py3-none-any.whl.metadata (572 bytes)\n",
      "Requirement already satisfied: requests in c:\\users\\hp\\appdata\\roaming\\python\\python312\\site-packages (from vaderSentiment) (2.32.3)\n",
      "Requirement already satisfied: charset-normalizer<4,>=2 in c:\\users\\hp\\appdata\\roaming\\python\\python312\\site-packages (from requests->vaderSentiment) (3.3.2)\n",
      "Requirement already satisfied: idna<4,>=2.5 in c:\\users\\hp\\appdata\\roaming\\python\\python312\\site-packages (from requests->vaderSentiment) (3.10)\n",
      "Requirement already satisfied: urllib3<3,>=1.21.1 in c:\\users\\hp\\appdata\\roaming\\python\\python312\\site-packages (from requests->vaderSentiment) (2.2.3)\n",
      "Requirement already satisfied: certifi>=2017.4.17 in c:\\users\\hp\\appdata\\roaming\\python\\python312\\site-packages (from requests->vaderSentiment) (2024.8.30)\n",
      "Downloading vaderSentiment-3.3.2-py2.py3-none-any.whl (125 kB)\n",
      "Installing collected packages: vaderSentiment\n",
      "Successfully installed vaderSentiment-3.3.2\n",
      "Note: you may need to restart the kernel to use updated packages.\n"
     ]
    }
   ],
   "source": [
    "pip install vaderSentiment"
   ]
  },
  {
   "cell_type": "code",
   "execution_count": 3,
   "id": "cb996e41-44fe-4c1c-a4c2-e7d1392ae8e4",
   "metadata": {},
   "outputs": [],
   "source": [
    "import pandas as pd"
   ]
  },
  {
   "cell_type": "code",
   "execution_count": 5,
   "id": "2750afb4-0904-4190-81f6-e2749659cf6a",
   "metadata": {},
   "outputs": [],
   "source": [
    "from vaderSentiment.vaderSentiment import SentimentIntensityAnalyzer"
   ]
  },
  {
   "cell_type": "code",
   "execution_count": 7,
   "id": "4582ae0a-6828-4ec9-817e-7f48585b40d0",
   "metadata": {},
   "outputs": [],
   "source": [
    "df = pd.read_csv(r'C:\\Users\\Hp\\Documents\\Jupyter Notebook\\CarRentalReview\\RatingFromReview_VADER.csv', encoding='ISO-8859-1')"
   ]
  },
  {
   "cell_type": "code",
   "execution_count": 9,
   "id": "78b9c629-c338-427e-a4ae-c6e8286b69b5",
   "metadata": {},
   "outputs": [],
   "source": [
    "# Initialize the VADER sentiment analyzer\n",
    "analyzer = SentimentIntensityAnalyzer()"
   ]
  },
  {
   "cell_type": "code",
   "execution_count": 11,
   "id": "b5c7b0b3-09a0-47ef-863b-ed250ecffcbb",
   "metadata": {},
   "outputs": [],
   "source": [
    "def analyze_sentiment(review):\n",
    "    return analyzer.polarity_scores(review)"
   ]
  },
  {
   "cell_type": "code",
   "execution_count": 13,
   "id": "f52b1358-d9fe-4269-b572-30a39ff36831",
   "metadata": {},
   "outputs": [],
   "source": [
    "# Combine the three review columns into one\n",
    "df['combined_reviews'] = df['review1'].fillna('') + ' ' + df['review2'].fillna('') + ' ' + df['review3'].fillna('')"
   ]
  },
  {
   "cell_type": "code",
   "execution_count": 15,
   "id": "2a6b8eca-f7fe-409e-a758-b14805365fc8",
   "metadata": {},
   "outputs": [
    {
     "name": "stdout",
     "output_type": "stream",
     "text": [
      "0                                    Blank Blank Blank\n",
      "1    I had looked at the Mercedes E Class, BMW 5 Se...\n",
      "2    Best car I've ever owned, hands down. I am a 3...\n",
      "3    I am so impressed with the new A3, itÂfs quic...\n",
      "4    While I am reviewing the Q3 I got a mere five ...\n",
      "Name: combined_reviews, dtype: object\n"
     ]
    }
   ],
   "source": [
    "# Check the new column\n",
    "print(df['combined_reviews'].head())"
   ]
  },
  {
   "cell_type": "code",
   "execution_count": 17,
   "id": "9361e5bb-48e0-4255-a0cd-4df5d8917327",
   "metadata": {},
   "outputs": [],
   "source": [
    "# Perform sentiment analysis on the combined reviews\n",
    "df['sentiment_scores'] = df['combined_reviews'].apply(analyze_sentiment)\n",
    "df['compound'] = df['sentiment_scores'].apply(lambda x: x['compound'])"
   ]
  },
  {
   "cell_type": "code",
   "execution_count": 19,
   "id": "bd1aa742-9b47-4c47-944d-edd49ce835ef",
   "metadata": {},
   "outputs": [],
   "source": [
    "def assign_rating(compound_score):\n",
    "    if compound_score >= 0.05:\n",
    "        return 5  # Positive sentiment\n",
    "    elif compound_score >= 0.01:\n",
    "        return 4  # Slightly positive sentiment\n",
    "    elif compound_score == 0:\n",
    "        return 3  # Neutral sentiment\n",
    "    elif compound_score >= -0.05:\n",
    "        return 2  # Slightly negative sentiment\n",
    "    else:\n",
    "        return 1  # Negative sentiment"
   ]
  },
  {
   "cell_type": "code",
   "execution_count": 21,
   "id": "688fa425-d57b-4a3c-9f86-36ae12d124d8",
   "metadata": {},
   "outputs": [
    {
     "name": "stdout",
     "output_type": "stream",
     "text": [
      "                                    combined_reviews  compound  rating\n",
      "0                                  Blank Blank Blank    0.0000       3\n",
      "1  I had looked at the Mercedes E Class, BMW 5 Se...   -0.3584       1\n",
      "2  Best car I've ever owned, hands down. I am a 3...    0.9823       5\n",
      "3  I am so impressed with the new A3, itÂfs quic...    0.9789       5\n",
      "4  While I am reviewing the Q3 I got a mere five ...    0.9868       5\n"
     ]
    }
   ],
   "source": [
    "# Apply the rating function\n",
    "df['rating'] = df['compound'].apply(assign_rating)\n",
    "\n",
    "# View the DataFrame with the new rating column\n",
    "print(df[['combined_reviews', 'compound', 'rating']].head())"
   ]
  },
  {
   "cell_type": "code",
   "execution_count": 23,
   "id": "aff0d62f-dd01-4fae-a397-019eda853766",
   "metadata": {},
   "outputs": [],
   "source": [
    "# Save the updated DataFrame with sentiment scores and ratings to a CSV file\n",
    "df.to_csv(r'C:\\Users\\Hp\\Downloads\\RatingFromReview_VADER.csv', index=False)"
   ]
  },
  {
   "cell_type": "code",
   "execution_count": 25,
   "id": "9f29e59e-660f-48b5-9b12-880752a9200c",
   "metadata": {},
   "outputs": [
    {
     "data": {
      "text/plain": [
       "'C:\\\\Users\\\\Hp\\\\Documents\\\\Jupyter Notebook\\\\CarRentalReview'"
      ]
     },
     "execution_count": 25,
     "metadata": {},
     "output_type": "execute_result"
    }
   ],
   "source": [
    "pwd"
   ]
  }
 ],
 "metadata": {
  "kernelspec": {
   "display_name": "Python 3 (ipykernel)",
   "language": "python",
   "name": "python3"
  },
  "language_info": {
   "codemirror_mode": {
    "name": "ipython",
    "version": 3
   },
   "file_extension": ".py",
   "mimetype": "text/x-python",
   "name": "python",
   "nbconvert_exporter": "python",
   "pygments_lexer": "ipython3",
   "version": "3.12.4"
  }
 },
 "nbformat": 4,
 "nbformat_minor": 5
}
